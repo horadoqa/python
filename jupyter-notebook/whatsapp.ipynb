{
 "cells": [
  {
   "cell_type": "markdown",
   "metadata": {},
   "source": [
    "# Whatsapp"
   ]
  },
  {
   "cell_type": "markdown",
   "metadata": {},
   "source": [
    "## Documentação\n",
    "\n",
    "https://pypi.org/project/pywhatkit/\n",
    "\n",
    "https://github.com/Ankit404butfound/PyWhatKit/wiki"
   ]
  },
  {
   "cell_type": "markdown",
   "metadata": {},
   "source": [
    "Para criar o Xauthority\n",
    "\n",
    "echo -e \"xauth generate :0 . trusted\\nxauth add \\${HOST}:0 . \\$(xxd -l 16 -p /dev/urandom)\\nxauth list\" > ~/.Xauthority\n",
    "\n",
    "sudo apt-get install python3-tk python3-dev"
   ]
  },
  {
   "cell_type": "code",
   "execution_count": null,
   "metadata": {},
   "outputs": [],
   "source": [
    "! pip install emoji pywhatkit"
   ]
  },
  {
   "cell_type": "code",
   "execution_count": null,
   "metadata": {},
   "outputs": [],
   "source": [
    "import pywhatkit as kit\n",
    "\n",
    "kit.sendwhatmsg('+55219123456', \"Olá\", 1)"
   ]
  },
  {
   "cell_type": "code",
   "execution_count": null,
   "metadata": {},
   "outputs": [],
   "source": [
    "! pip install emoji pywhatkit"
   ]
  },
  {
   "cell_type": "code",
   "execution_count": null,
   "metadata": {},
   "outputs": [],
   "source": [
    "import emoji\n",
    "import pywhatkit\n",
    "import time\n",
    "from datetime import datetime\n",
    "\n",
    "# contatos = ['+55 22981119538', '+55 21980025474', '+55 21981836521']\n",
    "contatos = ['+55219123456']\n",
    "mensagem = emoji.emojize(\"😀❤️\")\n",
    "print(mensagem)\n",
    "\n",
    "# Envia mensagem de 3 em 3 segundos\n",
    "\n",
    "while len(contatos) >= 1:\n",
    "    pywhatkit.sendwhatmsg(contatos[0], mensagem, datetime.now().hour,datetime.now().minute +1)\n",
    "    time.sleep(3)"
   ]
  },
  {
   "cell_type": "code",
   "execution_count": null,
   "metadata": {},
   "outputs": [],
   "source": [
    "import pywhatkit\n",
    "\n",
    "# Send a WhatsApp Message to a Contact at 1:30 PM\n",
    "pywhatkit.sendwhatmsg(\"+910123456789\", \"Hi\", 13, 30)\n",
    "\n",
    "# Same as above but Closes the Tab in 2 Seconds after Sending the Message\n",
    "pywhatkit.sendwhatmsg(\"+910123456789\", \"Hi\", 13, 30, 15, True, 2)\n",
    "\n",
    "# Send an Image to a Group with the Caption as Hello\n",
    "pywhatkit.sendwhats_image(\"Nome do grupo\", \"Images/Hello.png\", \"Hello\")\n",
    "\n",
    "# Send an Image to a Contact with the no Caption\n",
    "pywhatkit.sendwhats_image(\"+910123456789\", \"Images/Hello.png\")\n",
    "\n",
    "# Send a WhatsApp Message to a Group at 12:00 AM\n",
    "pywhatkit.sendwhatmsg_to_group(\"Nome do grupo\", \"Hey All!\", 0, 0)\n",
    "\n",
    "# Send a WhatsApp Message to a Group instantly\n",
    "pywhatkit.sendwhatmsg_to_group_instantly(\"Nome do grupo\", \"Hey All!\")\n",
    "\n",
    "# Play a Video on YouTube\n",
    "pywhatkit.playonyt(\"PyWhatKit\")"
   ]
  },
  {
   "cell_type": "code",
   "execution_count": null,
   "metadata": {},
   "outputs": [],
   "source": [
    "import pywhatkit\n",
    "\n",
    "pywhatkit.sendwhatmsg_to_group_instantly(\"Nome do grupo\", \"Hey All!\")"
   ]
  },
  {
   "cell_type": "code",
   "execution_count": null,
   "metadata": {},
   "outputs": [],
   "source": [
    "import pywhatkit\n",
    "\n",
    "pywhatkit.sendwhatmsg_to_group_instantly(\"Nome do grupo\", \"hummmm Dobradinha !!!\")"
   ]
  }
 ],
 "metadata": {
  "kernelspec": {
   "display_name": "Python 3",
   "language": "python",
   "name": "python3"
  },
  "language_info": {
   "codemirror_mode": {
    "name": "ipython",
    "version": 3
   },
   "file_extension": ".py",
   "mimetype": "text/x-python",
   "name": "python",
   "nbconvert_exporter": "python",
   "pygments_lexer": "ipython3",
   "version": "3.10.12"
  }
 },
 "nbformat": 4,
 "nbformat_minor": 2
}
