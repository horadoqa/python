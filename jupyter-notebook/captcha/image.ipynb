{
 "cells": [
  {
   "cell_type": "code",
   "execution_count": 13,
   "metadata": {},
   "outputs": [
    {
     "name": "stdout",
     "output_type": "stream",
     "text": [
      "Defaulting to user installation because normal site-packages is not writeable\n",
      "Requirement already satisfied: captcha in /home/rfahham/.local/lib/python3.10/site-packages (0.6.0)\n",
      "Requirement already satisfied: pillow in /home/rfahham/.local/lib/python3.10/site-packages (10.4.0)\n"
     ]
    }
   ],
   "source": [
    "! pip install captcha pillow"
   ]
  },
  {
   "cell_type": "code",
   "execution_count": 8,
   "metadata": {},
   "outputs": [
    {
     "name": "stdout",
     "output_type": "stream",
     "text": [
      "CAPTCHA text: xDxpvd0\n"
     ]
    }
   ],
   "source": [
    "from captcha.image import ImageCaptcha\n",
    "from PIL import Image\n",
    "\n",
    "def generate_captcha_text(length):\n",
    "    import string\n",
    "    import random\n",
    "    return ''.join(random.choices(string.ascii_letters + string.digits, k=length))\n",
    "\n",
    "def generate_captcha(captcha_length=7, save_path='CAPTCHA.png'):\n",
    "    image = ImageCaptcha(width=500, height=100)  # Corrigido 'heigth' para 'height'\n",
    "    captcha_text = generate_captcha_text(captcha_length)\n",
    "    image.write(captcha_text, save_path)\n",
    "    return captcha_text\n",
    "\n",
    "if __name__ == \"__main__\":\n",
    "    captcha_text = generate_captcha()\n",
    "    print(\"CAPTCHA text:\", captcha_text)\n",
    "\n",
    "    # Agora o caminho da imagem gerada é aberto com PIL\n",
    "    img = Image.open('CAPTCHA.png')\n",
    "    img.show()  # Exibe a imagem gerada\n"
   ]
  },
  {
   "cell_type": "code",
   "execution_count": 10,
   "metadata": {},
   "outputs": [
    {
     "name": "stdout",
     "output_type": "stream",
     "text": [
      "Uma imagem de CAPTCHA foi gerada. Confira a imagem e insira o texto exibido.\n",
      "Captcha correto!\n"
     ]
    }
   ],
   "source": [
    "from captcha.image import ImageCaptcha\n",
    "from PIL import Image\n",
    "\n",
    "def generate_captcha_text(length=7):\n",
    "    import string\n",
    "    import random\n",
    "    return ''.join(random.choices(string.ascii_letters + string.digits, k=length))\n",
    "\n",
    "def generate_captcha(captcha_length=7, save_path='CAPTCHA.png'):\n",
    "    image = ImageCaptcha(width=500, height=100)  # Definindo a largura e altura da imagem do CAPTCHA\n",
    "    captcha_text = generate_captcha_text(captcha_length)\n",
    "    image.write(captcha_text, save_path)\n",
    "    return captcha_text\n",
    "\n",
    "def validate_captcha():\n",
    "    captcha_text = generate_captcha()\n",
    "    print(\"Uma imagem de CAPTCHA foi gerada. Confira a imagem e insira o texto exibido.\")\n",
    "    \n",
    "    # Exibindo a imagem gerada para o usuário\n",
    "    img = Image.open('CAPTCHA.png')\n",
    "    img.show()\n",
    "\n",
    "    # Permitir no máximo 2 tentativas para o usuário\n",
    "    for tentativa in range(2):\n",
    "        user_input = input(f\"Tentativa {tentativa + 1}/2 - Digite o CAPTCHA: \")\n",
    "        \n",
    "        if user_input == captcha_text:\n",
    "            print(\"Captcha correto!\")\n",
    "            break\n",
    "        else:\n",
    "            if tentativa == 1:\n",
    "                print(\"Número de tentativas excedido. O CAPTCHA não foi validado corretamente.\")\n",
    "            else:\n",
    "                print(\"Captcha incorreto. Tente novamente.\")\n",
    "\n",
    "if __name__ == \"__main__\":\n",
    "    validate_captcha()\n"
   ]
  }
 ],
 "metadata": {
  "kernelspec": {
   "display_name": "Python 3",
   "language": "python",
   "name": "python3"
  },
  "language_info": {
   "codemirror_mode": {
    "name": "ipython",
    "version": 3
   },
   "file_extension": ".py",
   "mimetype": "text/x-python",
   "name": "python",
   "nbconvert_exporter": "python",
   "pygments_lexer": "ipython3",
   "version": "3.10.12"
  }
 },
 "nbformat": 4,
 "nbformat_minor": 2
}
