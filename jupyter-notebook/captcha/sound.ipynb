{
 "cells": [
  {
   "cell_type": "code",
   "execution_count": 2,
   "metadata": {},
   "outputs": [
    {
     "name": "stdout",
     "output_type": "stream",
     "text": [
      "Defaulting to user installation because normal site-packages is not writeable\n",
      "Requirement already satisfied: captcha in /home/rfahham/.local/lib/python3.10/site-packages (0.6.0)\n",
      "Requirement already satisfied: pillow in /home/rfahham/.local/lib/python3.10/site-packages (10.4.0)\n"
     ]
    }
   ],
   "source": [
    "! pip install captcha pillow"
   ]
  },
  {
   "cell_type": "code",
   "execution_count": 4,
   "metadata": {},
   "outputs": [
    {
     "name": "stdout",
     "output_type": "stream",
     "text": [
      "Generated CAPTCHA text: OLL732D\n"
     ]
    },
    {
     "ename": "KeyError",
     "evalue": "'O'",
     "output_type": "error",
     "traceback": [
      "\u001b[0;31m---------------------------------------------------------------------------\u001b[0m",
      "\u001b[0;31mKeyError\u001b[0m                                  Traceback (most recent call last)",
      "Cell \u001b[0;32mIn[4], line 19\u001b[0m\n\u001b[1;32m     16\u001b[0m \u001b[38;5;28mprint\u001b[39m(\u001b[38;5;124m\"\u001b[39m\u001b[38;5;124mGenerated CAPTCHA text:\u001b[39m\u001b[38;5;124m\"\u001b[39m, captcha_text)\n\u001b[1;32m     18\u001b[0m \u001b[38;5;66;03m# Gerando o áudio do CAPTCHA\u001b[39;00m\n\u001b[0;32m---> 19\u001b[0m audio_captcha \u001b[38;5;241m=\u001b[39m \u001b[43maudio\u001b[49m\u001b[38;5;241;43m.\u001b[39;49m\u001b[43mgenerate\u001b[49m\u001b[43m(\u001b[49m\u001b[43mcaptcha_text\u001b[49m\u001b[43m)\u001b[49m\n\u001b[1;32m     21\u001b[0m \u001b[38;5;66;03m# Salvando o arquivo de áudio\u001b[39;00m\n\u001b[1;32m     22\u001b[0m audio\u001b[38;5;241m.\u001b[39mwrite(captcha_text, \u001b[38;5;124m'\u001b[39m\u001b[38;5;124mAudio_captcha.wav\u001b[39m\u001b[38;5;124m'\u001b[39m)\n",
      "File \u001b[0;32m~/.local/lib/python3.10/site-packages/captcha/audio.py:268\u001b[0m, in \u001b[0;36mAudioCaptcha.generate\u001b[0;34m(self, chars)\u001b[0m\n\u001b[1;32m    266\u001b[0m \u001b[38;5;28;01mif\u001b[39;00m \u001b[38;5;129;01mnot\u001b[39;00m \u001b[38;5;28mself\u001b[39m\u001b[38;5;241m.\u001b[39m_cache:\n\u001b[1;32m    267\u001b[0m     \u001b[38;5;28mself\u001b[39m\u001b[38;5;241m.\u001b[39mload()\n\u001b[0;32m--> 268\u001b[0m body \u001b[38;5;241m=\u001b[39m \u001b[38;5;28;43mself\u001b[39;49m\u001b[38;5;241;43m.\u001b[39;49m\u001b[43mcreate_wave_body\u001b[49m\u001b[43m(\u001b[49m\u001b[43mchars\u001b[49m\u001b[43m)\u001b[49m\n\u001b[1;32m    269\u001b[0m \u001b[38;5;28;01mreturn\u001b[39;00m patch_wave_header(body)\n",
      "File \u001b[0;32m~/.local/lib/python3.10/site-packages/captcha/audio.py:244\u001b[0m, in \u001b[0;36mAudioCaptcha.create_wave_body\u001b[0;34m(self, chars)\u001b[0m\n\u001b[1;32m    242\u001b[0m inters: t\u001b[38;5;241m.\u001b[39mList[\u001b[38;5;28mint\u001b[39m] \u001b[38;5;241m=\u001b[39m []\n\u001b[1;32m    243\u001b[0m \u001b[38;5;28;01mfor\u001b[39;00m c \u001b[38;5;129;01min\u001b[39;00m chars:\n\u001b[0;32m--> 244\u001b[0m     voices\u001b[38;5;241m.\u001b[39mappend(\u001b[38;5;28;43mself\u001b[39;49m\u001b[38;5;241;43m.\u001b[39;49m\u001b[43m_twist_pick\u001b[49m\u001b[43m(\u001b[49m\u001b[43mc\u001b[49m\u001b[43m)\u001b[49m)\n\u001b[1;32m    245\u001b[0m     i \u001b[38;5;241m=\u001b[39m random\u001b[38;5;241m.\u001b[39mrandint(WAVE_SAMPLE_RATE, WAVE_SAMPLE_RATE \u001b[38;5;241m*\u001b[39m \u001b[38;5;241m3\u001b[39m)\n\u001b[1;32m    246\u001b[0m     inters\u001b[38;5;241m.\u001b[39mappend(i)\n",
      "File \u001b[0;32m~/.local/lib/python3.10/site-packages/captcha/audio.py:206\u001b[0m, in \u001b[0;36mAudioCaptcha._twist_pick\u001b[0;34m(self, key)\u001b[0m\n\u001b[1;32m    205\u001b[0m \u001b[38;5;28;01mdef\u001b[39;00m \u001b[38;5;21m_twist_pick\u001b[39m(\u001b[38;5;28mself\u001b[39m, key: \u001b[38;5;28mstr\u001b[39m) \u001b[38;5;241m-\u001b[39m\u001b[38;5;241m>\u001b[39m \u001b[38;5;28mbytearray\u001b[39m:\n\u001b[0;32m--> 206\u001b[0m     voice \u001b[38;5;241m=\u001b[39m random\u001b[38;5;241m.\u001b[39mchoice(\u001b[38;5;28;43mself\u001b[39;49m\u001b[38;5;241;43m.\u001b[39;49m\u001b[43m_cache\u001b[49m\u001b[43m[\u001b[49m\u001b[43mkey\u001b[49m\u001b[43m]\u001b[49m)\n\u001b[1;32m    208\u001b[0m     \u001b[38;5;66;03m# random change speed\u001b[39;00m\n\u001b[1;32m    209\u001b[0m     speed \u001b[38;5;241m=\u001b[39m random\u001b[38;5;241m.\u001b[39mrandrange(\u001b[38;5;241m90\u001b[39m, \u001b[38;5;241m120\u001b[39m) \u001b[38;5;241m/\u001b[39m \u001b[38;5;241m100.0\u001b[39m\n",
      "\u001b[0;31mKeyError\u001b[0m: 'O'"
     ]
    }
   ],
   "source": [
    "from captcha.audio import AudioCaptcha\n",
    "import random\n",
    "import string\n",
    "\n",
    "def generate_random_captcha(length=7):\n",
    "    # Gerando CAPTCHA com apenas letras maiúsculas e números\n",
    "    valid_chars = string.ascii_uppercase + string.digits\n",
    "    captcha_text = ''.join(random.choices(valid_chars, k=length))\n",
    "    return captcha_text\n",
    "\n",
    "# Criando o objeto AudioCaptcha\n",
    "audio = AudioCaptcha()\n",
    "\n",
    "# Gerando o texto do CAPTCHA\n",
    "captcha_text = generate_random_captcha()\n",
    "print(\"Generated CAPTCHA text:\", captcha_text)\n",
    "\n",
    "# Gerando o áudio do CAPTCHA\n",
    "audio_captcha = audio.generate(captcha_text)\n",
    "\n",
    "# Salvando o arquivo de áudio\n",
    "audio.write(captcha_text, 'Audio_captcha.wav')\n",
    "\n",
    "# Mensagem de sucesso\n",
    "print('Audio Captcha generated: Audio_captcha.wav')\n"
   ]
  }
 ],
 "metadata": {
  "kernelspec": {
   "display_name": "Python 3",
   "language": "python",
   "name": "python3"
  },
  "language_info": {
   "codemirror_mode": {
    "name": "ipython",
    "version": 3
   },
   "file_extension": ".py",
   "mimetype": "text/x-python",
   "name": "python",
   "nbconvert_exporter": "python",
   "pygments_lexer": "ipython3",
   "version": "3.10.12"
  }
 },
 "nbformat": 4,
 "nbformat_minor": 2
}
