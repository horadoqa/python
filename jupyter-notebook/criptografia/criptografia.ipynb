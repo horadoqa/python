{
 "cells": [
  {
   "cell_type": "markdown",
   "metadata": {},
   "source": [
    "Criptografando um texto e salvando em um arquivo"
   ]
  },
  {
   "cell_type": "code",
   "execution_count": 11,
   "metadata": {},
   "outputs": [
    {
     "name": "stdout",
     "output_type": "stream",
     "text": [
      "Encrypted data: Tkectfq\"Hcjjco\n"
     ]
    }
   ],
   "source": [
    "# encrypt.py\n",
    "class Encrypt:\n",
    "    def __init__(self):\n",
    "        self.send = \"\"\n",
    "        self.res = []\n",
    "    \n",
    "    def sender(self):\n",
    "        # Obter os dados do usuário\n",
    "        self.send = input(\"Enter the data to encrypt: \")\n",
    "        \n",
    "        # Criptografar os dados (somando 2 aos valores ASCII de cada caractere)\n",
    "        self.res = [ord(i) + 2 for i in self.send]\n",
    "        \n",
    "        # Exibir a criptografia\n",
    "        print(\"Encrypted data:\", \"\".join(chr(i) for i in self.res))\n",
    "        \n",
    "        # Salvar a criptografia em um arquivo\n",
    "        with open('encrypted_data.txt', 'w') as file:\n",
    "            file.write(\"\".join(chr(i) for i in self.res))\n",
    "\n",
    "# Criar o objeto e criptografar\n",
    "obj = Encrypt()\n",
    "obj.sender()\n",
    "\n"
   ]
  },
  {
   "cell_type": "markdown",
   "metadata": {},
   "source": [
    "Lendo o arquivo criptografado"
   ]
  },
  {
   "cell_type": "code",
   "execution_count": 12,
   "metadata": {},
   "outputs": [
    {
     "name": "stdout",
     "output_type": "stream",
     "text": [
      "Decrypted data: Ricardo Fahham\n"
     ]
    }
   ],
   "source": [
    "# decrypt.py\n",
    "class Decrypt:\n",
    "    def __init__(self):\n",
    "        self.encrypted_data = \"\"\n",
    "        self.res = []\n",
    "\n",
    "    def reader(self):\n",
    "        # Ler o arquivo de dados criptografados\n",
    "        try:\n",
    "            with open('encrypted_data.txt', 'r') as file:\n",
    "                self.encrypted_data = file.read()\n",
    "\n",
    "            # Descriptografar os dados (subtraindo 2 dos valores ASCII de cada caractere)\n",
    "            self.res = [ord(i) - 2 for i in self.encrypted_data]\n",
    "\n",
    "            # Exibir a descriptografia\n",
    "            print(\"Decrypted data:\", \"\".join(chr(i) for i in self.res))\n",
    "        except FileNotFoundError:\n",
    "            print(\"Encrypted file not found. Please run the encryption first.\")\n",
    "\n",
    "# Criar o objeto e ler a criptografia\n",
    "obj = Decrypt()\n",
    "obj.reader()\n"
   ]
  },
  {
   "cell_type": "markdown",
   "metadata": {},
   "source": [
    "Inserindo o texto a ser descriptografado"
   ]
  },
  {
   "cell_type": "code",
   "execution_count": 13,
   "metadata": {},
   "outputs": [
    {
     "name": "stdout",
     "output_type": "stream",
     "text": [
      "Decrypted data: Ricardo Fahham\n"
     ]
    }
   ],
   "source": [
    "# decrypt_input.py\n",
    "class Decrypt:\n",
    "    def __init__(self):\n",
    "        self.encrypted_data = \"\"\n",
    "        self.res = []\n",
    "\n",
    "    def reader(self):\n",
    "        # Solicitar que o usuário insira o texto criptografado\n",
    "        self.encrypted_data = input(\"Enter the encrypted data to decrypt: \")\n",
    "\n",
    "        # Descriptografar os dados (subtraindo 2 dos valores ASCII de cada caractere)\n",
    "        self.res = [ord(i) - 2 for i in self.encrypted_data]\n",
    "\n",
    "        # Exibir a descriptografia\n",
    "        print(\"Decrypted data:\", \"\".join(chr(i) for i in self.res))\n",
    "\n",
    "# Criar o objeto e realizar a leitura da criptografia\n",
    "obj = Decrypt()\n",
    "obj.reader()\n"
   ]
  },
  {
   "cell_type": "markdown",
   "metadata": {},
   "source": [
    "Utilizando AES - AES (Advanced Encryption Standard)"
   ]
  },
  {
   "cell_type": "code",
   "execution_count": 20,
   "metadata": {},
   "outputs": [
    {
     "name": "stdout",
     "output_type": "stream",
     "text": [
      "Encrypted: Zr/61aeavza4SqM84xEKsJSoUv7qbsdisyWXJ3yeopneuNmwN/hlYnIn9LDt\n",
      "Decrypted: Hello, World!\n"
     ]
    }
   ],
   "source": [
    "from Crypto.Cipher import AES\n",
    "from Crypto.Random import get_random_bytes\n",
    "import base64\n",
    "\n",
    "def encrypt_aes(key, plaintext):\n",
    "    cipher = AES.new(key, AES.MODE_EAX)\n",
    "    ciphertext, tag = cipher.encrypt_and_digest(plaintext.encode())\n",
    "    return base64.b64encode(cipher.nonce + tag + ciphertext).decode()\n",
    "\n",
    "def decrypt_aes(key, ciphertext):\n",
    "    data = base64.b64decode(ciphertext)\n",
    "    nonce, tag, ciphertext = data[:16], data[16:32], data[32:]\n",
    "    cipher = AES.new(key, AES.MODE_EAX, nonce=nonce)\n",
    "    plaintext = cipher.decrypt_and_verify(ciphertext, tag)\n",
    "    return plaintext.decode()\n",
    "\n",
    "# Geração de uma chave de 16 bytes\n",
    "key = get_random_bytes(16)\n",
    "\n",
    "# Testando a criptografia\n",
    "plaintext = \"Hello, World!\"\n",
    "encrypted = encrypt_aes(key, plaintext)\n",
    "decrypted = decrypt_aes(key, encrypted)\n",
    "\n",
    "print(\"Encrypted:\", encrypted)\n",
    "print(\"Decrypted:\", decrypted)\n"
   ]
  },
  {
   "cell_type": "markdown",
   "metadata": {},
   "source": [
    "Utilizando RSA"
   ]
  },
  {
   "cell_type": "code",
   "execution_count": 18,
   "metadata": {},
   "outputs": [
    {
     "name": "stdout",
     "output_type": "stream",
     "text": [
      "Defaulting to user installation because normal site-packages is not writeable\n",
      "Requirement already satisfied: Crypto in /home/rfahham/.local/lib/python3.10/site-packages (1.4.1)\n",
      "Collecting pycryptodome\n",
      "  Downloading pycryptodome-3.21.0-cp36-abi3-manylinux_2_17_x86_64.manylinux2014_x86_64.whl (2.3 MB)\n",
      "\u001b[2K     \u001b[90m━━━━━━━━━━━━━━━━━━━━━━━━━━━━━━━━━━━━━━━━\u001b[0m \u001b[32m2.3/2.3 MB\u001b[0m \u001b[31m10.0 MB/s\u001b[0m eta \u001b[36m0:00:00\u001b[0m00:01\u001b[0m00:01\u001b[0m\n",
      "\u001b[?25hRequirement already satisfied: Naked in /home/rfahham/.local/lib/python3.10/site-packages (from Crypto) (0.1.32)\n",
      "Requirement already satisfied: shellescape in /home/rfahham/.local/lib/python3.10/site-packages (from Crypto) (3.8.1)\n",
      "Requirement already satisfied: requests in /home/rfahham/.local/lib/python3.10/site-packages (from Naked->Crypto) (2.32.3)\n",
      "Requirement already satisfied: pyyaml in /usr/lib/python3/dist-packages (from Naked->Crypto) (5.4.1)\n",
      "Requirement already satisfied: certifi>=2017.4.17 in /home/rfahham/.local/lib/python3.10/site-packages (from requests->Naked->Crypto) (2024.8.30)\n",
      "Requirement already satisfied: urllib3<3,>=1.21.1 in /home/rfahham/.local/lib/python3.10/site-packages (from requests->Naked->Crypto) (2.2.2)\n",
      "Requirement already satisfied: idna<4,>=2.5 in /home/rfahham/.local/lib/python3.10/site-packages (from requests->Naked->Crypto) (3.8)\n",
      "Requirement already satisfied: charset-normalizer<4,>=2 in /home/rfahham/.local/lib/python3.10/site-packages (from requests->Naked->Crypto) (3.3.2)\n",
      "Installing collected packages: pycryptodome\n",
      "Successfully installed pycryptodome-3.21.0\n"
     ]
    }
   ],
   "source": [
    "! pip install Crypto pycryptodome"
   ]
  },
  {
   "cell_type": "code",
   "execution_count": 19,
   "metadata": {},
   "outputs": [
    {
     "name": "stdout",
     "output_type": "stream",
     "text": [
      "Encrypted: fbhmB/UhA/Aa2QMRbBVSOvtNyuun0dAVTSZulAlzSTMez94PAhYTG6vSl982vq57AgfW7AzTHI5NpA6PTd4X527wdpxS+2su4BAJOjg3NoJ8D9DEG9FHsNO4mch1ZQX938n8HJ4lxXnby0MHgRdTsfYN1iy756spiSnBaeMYHj0+gYWSS3XdcncckkKhtLGXQwXNMZolM86TifKFS8mr7FCX8RXSoIUIQ6ALr1aukRKcygGwSRgkyF1Nf/jIEZqNFlRhII50llAB5usbvvhT87mYnCER6ictRmZS+V0bdsLOq6HKSMptDHroixNfXUukbycFZSCWVcUPa7AbZQQGng==\n",
      "Decrypted: Hello, RSA!\n"
     ]
    }
   ],
   "source": [
    "from Crypto.PublicKey import RSA\n",
    "from Crypto.Cipher import PKCS1_OAEP\n",
    "import base64\n",
    "\n",
    "# Gerar as chaves pública e privada RSA\n",
    "key = RSA.generate(2048)\n",
    "private_key = key\n",
    "public_key = key.publickey()\n",
    "\n",
    "# Função para criptografar com chave pública\n",
    "def encrypt_rsa(public_key, plaintext):\n",
    "    cipher = PKCS1_OAEP.new(public_key)\n",
    "    ciphertext = cipher.encrypt(plaintext.encode())\n",
    "    return base64.b64encode(ciphertext).decode()\n",
    "\n",
    "# Função para descriptografar com chave privada\n",
    "def decrypt_rsa(private_key, ciphertext):\n",
    "    cipher = PKCS1_OAEP.new(private_key)\n",
    "    decrypted = cipher.decrypt(base64.b64decode(ciphertext))\n",
    "    return decrypted.decode()\n",
    "\n",
    "plaintext = \"Hello, RSA!\"\n",
    "\n",
    "# Criptografar e depois descriptografar\n",
    "encrypted = encrypt_rsa(public_key, plaintext)\n",
    "decrypted = decrypt_rsa(private_key, encrypted)\n",
    "\n",
    "print(\"Encrypted:\", encrypted)\n",
    "print(\"Decrypted:\", decrypted)\n"
   ]
  },
  {
   "cell_type": "markdown",
   "metadata": {},
   "source": [
    "Utilizando Hashing"
   ]
  },
  {
   "cell_type": "code",
   "execution_count": 14,
   "metadata": {},
   "outputs": [
    {
     "name": "stdout",
     "output_type": "stream",
     "text": [
      "Hashed data: dffd6021bb2bd5b0af676290809ec3a53191dd81c7f70a4b28688a362182986f\n"
     ]
    }
   ],
   "source": [
    "import hashlib\n",
    "\n",
    "def hash_data(data):\n",
    "    return hashlib.sha256(data.encode()).hexdigest()\n",
    "\n",
    "plaintext = \"Hello, World!\"\n",
    "hashed = hash_data(plaintext)\n",
    "print(\"Hashed data:\", hashed)\n"
   ]
  }
 ],
 "metadata": {
  "kernelspec": {
   "display_name": "Python 3",
   "language": "python",
   "name": "python3"
  },
  "language_info": {
   "codemirror_mode": {
    "name": "ipython",
    "version": 3
   },
   "file_extension": ".py",
   "mimetype": "text/x-python",
   "name": "python",
   "nbconvert_exporter": "python",
   "pygments_lexer": "ipython3",
   "version": "3.10.12"
  }
 },
 "nbformat": 4,
 "nbformat_minor": 2
}
