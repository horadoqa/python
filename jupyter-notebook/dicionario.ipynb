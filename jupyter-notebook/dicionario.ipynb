{
 "cells": [
  {
   "cell_type": "markdown",
   "metadata": {},
   "source": [
    "# Dicionário"
   ]
  },
  {
   "cell_type": "markdown",
   "metadata": {},
   "source": [
    "## Criando um Dicionário"
   ]
  },
  {
   "cell_type": "code",
   "execution_count": 1,
   "metadata": {},
   "outputs": [
    {
     "name": "stdout",
     "output_type": "stream",
     "text": [
      "{'nome': 'Ricardo Fahham', 'idade': 54, 'sexo': 'Masculino'}\n"
     ]
    }
   ],
   "source": [
    "pessoa = {\n",
    "    \"nome\": \"Ricardo Fahham\",\n",
    "    \"idade\": 53,\n",
    "    \"sexo\": \"Masculino\"\n",
    "}\n",
    "\n",
    "print(pessoa)"
   ]
  },
  {
   "cell_type": "markdown",
   "metadata": {},
   "source": [
    "## Acessando e modificando Valor"
   ]
  },
  {
   "cell_type": "code",
   "execution_count": 2,
   "metadata": {},
   "outputs": [
    {
     "name": "stdout",
     "output_type": "stream",
     "text": [
      "Ricardo Fahham\n",
      "54\n"
     ]
    }
   ],
   "source": [
    "print(pessoa[\"nome\"])\n",
    "\n",
    "pessoa[\"idade\"] = 54\n",
    "print(pessoa[\"idade\"])"
   ]
  },
  {
   "cell_type": "markdown",
   "metadata": {},
   "source": [
    "## Adicionando Chave:Valor"
   ]
  },
  {
   "cell_type": "code",
   "execution_count": 3,
   "metadata": {},
   "outputs": [
    {
     "name": "stdout",
     "output_type": "stream",
     "text": [
      "{'nome': 'Ricardo Fahham', 'idade': 54, 'sexo': 'Masculino', 'e-mail': 'rfahham@gmail.com'}\n"
     ]
    }
   ],
   "source": [
    "pessoa[\"e-mail\"] = \"rfahham@gmail.com\"\n",
    "print(pessoa)"
   ]
  },
  {
   "cell_type": "markdown",
   "metadata": {},
   "source": [
    "## Removendo Chave:Valor"
   ]
  },
  {
   "cell_type": "code",
   "execution_count": 4,
   "metadata": {},
   "outputs": [
    {
     "name": "stdout",
     "output_type": "stream",
     "text": [
      "{'nome': 'Ricardo Fahham', 'idade': 54, 'e-mail': 'rfahham@gmail.com'}\n"
     ]
    }
   ],
   "source": [
    "del pessoa[\"sexo\"]\n",
    "print(pessoa)"
   ]
  },
  {
   "cell_type": "markdown",
   "metadata": {},
   "source": [
    "## Métodos - Obtendo todas as chaves"
   ]
  },
  {
   "cell_type": "code",
   "execution_count": 5,
   "metadata": {},
   "outputs": [
    {
     "name": "stdout",
     "output_type": "stream",
     "text": [
      "dict_keys(['nome', 'idade', 'e-mail'])\n"
     ]
    }
   ],
   "source": [
    "print(pessoa.keys())"
   ]
  },
  {
   "cell_type": "markdown",
   "metadata": {},
   "source": [
    "## Métodos - Obtendo todos os valores"
   ]
  },
  {
   "cell_type": "code",
   "execution_count": 6,
   "metadata": {},
   "outputs": [
    {
     "name": "stdout",
     "output_type": "stream",
     "text": [
      "dict_values(['Ricardo Fahham', 54, 'rfahham@gmail.com'])\n"
     ]
    }
   ],
   "source": [
    "print(pessoa.values())"
   ]
  },
  {
   "cell_type": "markdown",
   "metadata": {},
   "source": [
    "## Métodos - Obtendo chaves e os valores"
   ]
  },
  {
   "cell_type": "code",
   "execution_count": 7,
   "metadata": {},
   "outputs": [
    {
     "name": "stdout",
     "output_type": "stream",
     "text": [
      "dict_items([('nome', 'Ricardo Fahham'), ('idade', 54), ('e-mail', 'rfahham@gmail.com')])\n"
     ]
    }
   ],
   "source": [
    "print(pessoa.items())"
   ]
  },
  {
   "cell_type": "markdown",
   "metadata": {},
   "source": [
    "## Usando o método GET"
   ]
  },
  {
   "cell_type": "code",
   "execution_count": 10,
   "metadata": {},
   "outputs": [
    {
     "name": "stdout",
     "output_type": "stream",
     "text": [
      "Ricardo Fahham\n",
      "Não encontrado\n"
     ]
    }
   ],
   "source": [
    "print(pessoa.get(\"nome\"))\n",
    "print(pessoa.get(\"cidade\", \"Não encontrado\"))\n"
   ]
  },
  {
   "cell_type": "markdown",
   "metadata": {},
   "source": [
    "## Usando o método pop"
   ]
  },
  {
   "cell_type": "code",
   "execution_count": 23,
   "metadata": {},
   "outputs": [
    {
     "name": "stdout",
     "output_type": "stream",
     "text": [
      "rfahham@gmail.com\n",
      "{'nome': 'Ricardo Fahham', 'idade': 53, 'sexo': 'Masculino'}\n"
     ]
    }
   ],
   "source": [
    "pessoa = {\n",
    "    \"nome\": \"Ricardo Fahham\",\n",
    "    \"idade\": 53,\n",
    "    \"sexo\": \"Masculino\"\n",
    "}\n",
    "\n",
    "pessoa[\"e-mail\"] = \"rfahham@gmail.com\"\n",
    "\n",
    "email = pessoa.pop(\"e-mail\")\n",
    "print(email)\n",
    "print(pessoa)\n"
   ]
  },
  {
   "cell_type": "markdown",
   "metadata": {},
   "source": [
    "## Utilizando o Comprehensions"
   ]
  },
  {
   "cell_type": "code",
   "execution_count": 24,
   "metadata": {},
   "outputs": [
    {
     "name": "stdout",
     "output_type": "stream",
     "text": [
      "{0: 0, 1: 1, 2: 4, 3: 9, 4: 16, 5: 25}\n"
     ]
    }
   ],
   "source": [
    "# Modelo:\n",
    "# {chave: valor for item in iterável}\n",
    "\n",
    "squares = {x: x*x for x in range(6)}\n",
    "print(squares)"
   ]
  },
  {
   "cell_type": "markdown",
   "metadata": {},
   "source": [
    "# Aninhado"
   ]
  },
  {
   "cell_type": "code",
   "execution_count": 25,
   "metadata": {},
   "outputs": [
    {
     "name": "stdout",
     "output_type": "stream",
     "text": [
      "{'pessoa1': {'nome': 'Ricardo Fahham', 'idade': 53, 'sexo': 'Masculino'}, 'pessoa2': {'nome': 'Alessandra Miranda', 'idade': 51, 'sexo': 'Feminino'}}\n"
     ]
    }
   ],
   "source": [
    "pessoas = {\n",
    "    \"pessoa1\":{\n",
    "    \"nome\": \"Ricardo Fahham\",\n",
    "    \"idade\": 53,\n",
    "    \"sexo\": \"Masculino\"\n",
    "    },\n",
    "    \"pessoa2\":{\n",
    "    \"nome\": \"Alessandra Miranda\",\n",
    "    \"idade\": 51,\n",
    "    \"sexo\": \"Feminino\"\n",
    "    }\n",
    "}\n",
    "\n",
    "print(pessoas)"
   ]
  },
  {
   "cell_type": "markdown",
   "metadata": {},
   "source": [
    "# Acesando pessoa1 e pessoa2"
   ]
  },
  {
   "cell_type": "code",
   "execution_count": 27,
   "metadata": {},
   "outputs": [
    {
     "name": "stdout",
     "output_type": "stream",
     "text": [
      "Ricardo Fahham\n",
      "Alessandra Miranda\n"
     ]
    }
   ],
   "source": [
    "print(pessoas[\"pessoa1\"][\"nome\"])\n",
    "print(pessoas[\"pessoa2\"][\"nome\"])\n"
   ]
  },
  {
   "cell_type": "markdown",
   "metadata": {},
   "source": [
    "## Operações Avançadas"
   ]
  },
  {
   "cell_type": "code",
   "execution_count": 29,
   "metadata": {},
   "outputs": [
    {
     "name": "stdout",
     "output_type": "stream",
     "text": [
      "{'a': 1, 'b': 2, 'c': 3, 'd': 4}\n"
     ]
    }
   ],
   "source": [
    "dict1 = {\"a\": 1, \"b\": 2}\n",
    "dict2 = {\"c\": 3, \"d\": 4}\n",
    "\n",
    "dics = dict1 | dict2\n",
    "print(dics)"
   ]
  },
  {
   "cell_type": "code",
   "execution_count": 30,
   "metadata": {},
   "outputs": [
    {
     "name": "stdout",
     "output_type": "stream",
     "text": [
      "defaultdict(<class 'int'>, {'key1': 1})\n"
     ]
    }
   ],
   "source": [
    "from collections import defaultdict\n",
    "\n",
    "dd = defaultdict(int)\n",
    "dd[\"key1\"] += 1\n",
    "print(dd)"
   ]
  },
  {
   "cell_type": "code",
   "execution_count": 31,
   "metadata": {},
   "outputs": [
    {
     "name": "stdout",
     "output_type": "stream",
     "text": [
      "{'name': 'Ricardo Fahham', 'age': 54, 'city': 'Petrópolis'}\n"
     ]
    }
   ],
   "source": [
    "keys = [\"nome\", \"idade\", \"cidade\"]\n",
    "valores = [\"Ricardo Fahham\", 54, \"Petrópolis\"]\n",
    "pessoa = dict(zip(keys, valores))\n",
    "print(pessoa)"
   ]
  }
 ],
 "metadata": {
  "kernelspec": {
   "display_name": "Python 3",
   "language": "python",
   "name": "python3"
  },
  "language_info": {
   "codemirror_mode": {
    "name": "ipython",
    "version": 3
   },
   "file_extension": ".py",
   "mimetype": "text/x-python",
   "name": "python",
   "nbconvert_exporter": "python",
   "pygments_lexer": "ipython3",
   "version": "3.10.12"
  }
 },
 "nbformat": 4,
 "nbformat_minor": 2
}
