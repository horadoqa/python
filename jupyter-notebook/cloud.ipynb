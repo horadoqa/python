{
 "cells": [
  {
   "cell_type": "code",
   "execution_count": null,
   "metadata": {},
   "outputs": [
    {
     "name": "stdout",
     "output_type": "stream",
     "text": [
      "--------------------------------------------------\n",
      "  Escolha a infra de cloud a ser implementada \n",
      "--------------------------------------------------\n",
      "\n",
      "aws\n",
      "A infra selecioando foi AWS\n"
     ]
    }
   ],
   "source": [
    "print(\"-\"*50)\n",
    "print(\"   Escolha a infra de cloud a ser implementada  \")\n",
    "print(\"-\"*50)\n",
    "print(\"\")\n",
    "\n",
    "opcao = input(\"Informe a Cloud a ser utilizada, AWS, GCP ou AZURE: \")\n",
    "\n",
    "print(opcao)\n",
    "\n",
    "if opcao == \"aws\":\n",
    "    print(\"A infra selecioando foi AWS\")\n",
    "elif opcao == \"gcp\":\n",
    "    print(\"A infra selecioando foi GCP\")\n",
    "elif opcao == \"azure\":\n",
    "    print(\"A infra selecioando foi AZURE\")\n",
    "else:\n",
    "    print(\"Escolha uma opção válida !!!\")"
   ]
  },
  {
   "cell_type": "code",
   "execution_count": 2,
   "metadata": {},
   "outputs": [
    {
     "name": "stdout",
     "output_type": "stream",
     "text": [
      "--------------------------------------------------\n",
      "  Escolha a infra de cloud a ser implementada \n",
      "--------------------------------------------------\n",
      "\n",
      "A infra selecionada foi AWS\n"
     ]
    }
   ],
   "source": [
    "def escolher_cloud():\n",
    "    print(\"-\" * 50)\n",
    "    print(\"  Escolha a infra de cloud a ser implementada \")\n",
    "    print(\"-\" * 50)\n",
    "    print(\"\")\n",
    "\n",
    "    # Mapeamento de opções\n",
    "    clouds = {\n",
    "        \"aws\": \"A infra selecionada foi AWS\",\n",
    "        \"gcp\": \"A infra selecionada foi GCP\",\n",
    "        \"azure\": \"A infra selecionada foi AZURE\"\n",
    "    }\n",
    "\n",
    "    # Recebe a opção do usuário\n",
    "    opcao = input(\"Informe a Cloud a ser utilizada, AWS, GCP ou AZURE: \").lower()\n",
    "\n",
    "    # Verifica se a opção está no dicionário\n",
    "    if opcao in clouds:\n",
    "        print(clouds[opcao])\n",
    "    else:\n",
    "        print(\"Escolha uma opção válida !!!\")\n",
    "\n",
    "# Chama a função\n",
    "escolher_cloud()\n"
   ]
  }
 ],
 "metadata": {
  "kernelspec": {
   "display_name": "Python 3",
   "language": "python",
   "name": "python3"
  },
  "language_info": {
   "codemirror_mode": {
    "name": "ipython",
    "version": 3
   },
   "file_extension": ".py",
   "mimetype": "text/x-python",
   "name": "python",
   "nbconvert_exporter": "python",
   "pygments_lexer": "ipython3",
   "version": "3.10.12"
  }
 },
 "nbformat": 4,
 "nbformat_minor": 2
}
