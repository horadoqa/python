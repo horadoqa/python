{
 "cells": [
  {
   "cell_type": "code",
   "execution_count": null,
   "metadata": {},
   "outputs": [],
   "source": [
    "from datetime import date\n",
    "\n",
    "# Data atual\n",
    "atual = date.today()\n",
    "\n",
    "# Entrada do usuário: Ano de nascimento\n",
    "nascimento = int(input('Ano de Nascimento: '))\n",
    "\n",
    "# Cálculo da idade\n",
    "idade = atual.year - nascimento\n",
    "\n",
    "# Ajuste da idade com base no mês e dia (se a pessoa ainda não fez aniversário este ano)\n",
    "if (atual.month, atual.day) < (nascimento, 1):\n",
    "    idade -= 1\n",
    "\n",
    "# Exibição da idade calculada\n",
    "print(f'Quem nasceu em {nascimento} tem {idade} anos em {atual.year}.')\n",
    "\n",
    "# Verificação das condições de alistamento\n",
    "if idade == 18:\n",
    "    print('Você deve se alistar IMEDIATAMENTE!')\n",
    "elif idade < 18:\n",
    "    saldo = 18 - idade\n",
    "    print(f'Ainda faltam {saldo} anos para o seu alistamento!')\n",
    "else:\n",
    "    saldo = idade - 18\n",
    "    print(f'Você já deveria ter se alistado há {saldo} anos!')\n"
   ]
  }
 ],
 "metadata": {
  "language_info": {
   "name": "python"
  }
 },
 "nbformat": 4,
 "nbformat_minor": 2
}
