{
 "cells": [
  {
   "cell_type": "markdown",
   "metadata": {},
   "source": [
    "Banco de Dados SQL com python"
   ]
  },
  {
   "cell_type": "markdown",
   "metadata": {},
   "source": [
    "(CREATE TABLE) - Criando banco e tabela"
   ]
  },
  {
   "cell_type": "code",
   "execution_count": 19,
   "metadata": {},
   "outputs": [],
   "source": [
    "import sqlite3\n",
    "\n",
    "# Conectar ou criar o banco de dados\n",
    "conn = sqlite3.connect('exemplo.db')  # Cria um arquivo de banco de dados chamado 'exemplo.db'\n",
    "cursor = conn.cursor()\n",
    "\n",
    "# Criar uma tabela\n",
    "cursor.execute('''\n",
    "    CREATE TABLE IF NOT EXISTS clientes (\n",
    "        id INTEGER PRIMARY KEY AUTOINCREMENT,\n",
    "        nome TEXT NOT NULL,\n",
    "        idade INTEGER,\n",
    "        email TEXT\n",
    "    )\n",
    "''')\n",
    "\n",
    "# Salvar as alterações no banco de dados\n",
    "conn.commit()\n",
    "\n",
    "# Fechar a conexão com o banco de dados\n",
    "conn.close()\n"
   ]
  },
  {
   "cell_type": "markdown",
   "metadata": {},
   "source": [
    "Inserindo dados na tabela"
   ]
  },
  {
   "cell_type": "code",
   "execution_count": null,
   "metadata": {},
   "outputs": [
    {
     "name": "stdout",
     "output_type": "stream",
     "text": [
      "Clientes cadastrados:\n",
      "(1, 'João Silva', 30, 'joao@exemplo.com')\n",
      "(2, 'Maria Oliveira', 25, 'maria@exemplo.com')\n",
      "(3, 'Ricardo Fahham', 54, 'rfahham@gmail.com')\n"
     ]
    }
   ],
   "source": [
    "import sqlite3\n",
    "\n",
    "# Conectar ou criar o banco de dados\n",
    "conn = sqlite3.connect('exemplo.db')  # Cria um arquivo de banco de dados chamado 'exemplo.db'\n",
    "cursor = conn.cursor()\n",
    "\n",
    "# Inserir dados na tabela\n",
    "cursor.execute('''\n",
    "    INSERT INTO clientes (nome, idade, email)\n",
    "    VALUES ('João Silva', 30, 'joao@exemplo.com')\n",
    "''')\n",
    "\n",
    "cursor.execute('''\n",
    "    INSERT INTO clientes (nome, idade, email)\n",
    "    VALUES ('Maria Oliveira', 25, 'maria@exemplo.com')\n",
    "''')\n",
    "\n",
    "cursor.execute('''\n",
    "    INSERT INTO clientes (nome, idade, email)\n",
    "    VALUES ('Ricardo Fahham', 54, 'rfahham@gmail.com')\n",
    "''')\n",
    "\n",
    "# Salvar as alterações no banco de dados\n",
    "conn.commit()\n",
    "\n",
    "# Fechar a conexão com o banco de dados\n",
    "conn.close()\n"
   ]
  },
  {
   "cell_type": "markdown",
   "metadata": {},
   "source": [
    "(SELECT) - Listar todos os cadastros"
   ]
  },
  {
   "cell_type": "code",
   "execution_count": 21,
   "metadata": {},
   "outputs": [
    {
     "name": "stdout",
     "output_type": "stream",
     "text": [
      "[(1, 'João Silva', 30, 'joao@exemplo.com'), (2, 'Maria Oliveira', 25, 'maria@exemplo.com'), (3, 'Ricardo Fahham', 54, 'rfahham@gmail.com')]\n",
      "Clientes cadastrados:\n",
      "(1, 'João Silva', 30, 'joao@exemplo.com')\n",
      "(2, 'Maria Oliveira', 25, 'maria@exemplo.com')\n",
      "(3, 'Ricardo Fahham', 54, 'rfahham@gmail.com')\n"
     ]
    }
   ],
   "source": [
    "import sqlite3\n",
    "\n",
    "# Conectar ou criar o banco de dados\n",
    "conn = sqlite3.connect('exemplo.db')  # Cria um arquivo de banco de dados chamado 'exemplo.db'\n",
    "cursor = conn.cursor()\n",
    "\n",
    "cursor.execute(\"SELECT * FROM clientes\")\n",
    "clientes = cursor.fetchall()\n",
    "print(clientes)\n",
    "\n",
    "# Exibir os dados consultados\n",
    "print(\"Clientes cadastrados:\")\n",
    "for cliente in clientes:\n",
    "    print(cliente)\n",
    "\n",
    "# Fechar a conexão com o banco de dados\n",
    "conn.close()"
   ]
  },
  {
   "cell_type": "markdown",
   "metadata": {},
   "source": [
    "(WHERE) - Listar todos os cadastros com mais de 25 anos"
   ]
  },
  {
   "cell_type": "code",
   "execution_count": 32,
   "metadata": {},
   "outputs": [
    {
     "name": "stdout",
     "output_type": "stream",
     "text": [
      "[(1, 'João Silva', 31, 'joao@exemplo.com'), (2, 'Maria Oliveira', 25, 'maria@exemplo.com'), (3, 'Ricardo Fahham', 54, 'rfahham@gmail.com')]\n"
     ]
    }
   ],
   "source": [
    "import sqlite3\n",
    "\n",
    "# Conectar ou criar o banco de dados\n",
    "conn = sqlite3.connect('exemplo.db')  # Cria um arquivo de banco de dados chamado 'exemplo.db'\n",
    "cursor = conn.cursor()\n",
    "\n",
    "cursor.execute(\"SELECT * FROM clientes WHERE idade >= 25\")\n",
    "clientes_maiores_que_25 = cursor.fetchall()\n",
    "print(clientes_maiores_que_25)\n",
    "\n",
    "# Fechar a conexão com o banco de dados\n",
    "conn.close()\n"
   ]
  },
  {
   "cell_type": "markdown",
   "metadata": {},
   "source": [
    "(UPDATE) Atualizar dados "
   ]
  },
  {
   "cell_type": "code",
   "execution_count": 30,
   "metadata": {},
   "outputs": [
    {
     "name": "stdout",
     "output_type": "stream",
     "text": [
      "Clientes cadastrados:\n",
      "(1, 'João Silva', 31, 'joao@exemplo.com')\n",
      "(2, 'Maria Oliveira', 25, 'maria@exemplo.com')\n",
      "(3, 'Ricardo Fahham', 54, 'rfahham@gmail.com')\n"
     ]
    }
   ],
   "source": [
    "import sqlite3\n",
    "\n",
    "# Conectar ou criar o banco de dados\n",
    "conn = sqlite3.connect('exemplo.db')  # Cria um arquivo de banco de dados chamado 'exemplo.db'\n",
    "cursor = conn.cursor()\n",
    "\n",
    "# Atualizar dados\n",
    "cursor.execute(\"UPDATE clientes SET idade = 31 WHERE nome = 'João Silva'\")\n",
    "\n",
    "# Salvar as alterações no banco de dados\n",
    "conn.commit()\n",
    "\n",
    "# Consultar os dados atualizados\n",
    "cursor.execute(\"SELECT * FROM clientes\")\n",
    "clientes = cursor.fetchall()  # Obtém todos os registros da tabela\n",
    "\n",
    "# Exibir os dados consultados\n",
    "print(\"Clientes cadastrados:\")\n",
    "for cliente in clientes:\n",
    "    print(cliente)\n",
    "\n",
    "# Fechar a conexão com o banco de dados\n",
    "conn.close()\n"
   ]
  },
  {
   "cell_type": "markdown",
   "metadata": {},
   "source": [
    "(DELETE) - Deletar um registro"
   ]
  },
  {
   "cell_type": "code",
   "execution_count": 34,
   "metadata": {},
   "outputs": [
    {
     "name": "stdout",
     "output_type": "stream",
     "text": [
      "Clientes cadastrados:\n",
      "(1, 'João Silva', 31, 'joao@exemplo.com')\n",
      "(3, 'Ricardo Fahham', 54, 'rfahham@gmail.com')\n"
     ]
    }
   ],
   "source": [
    "import sqlite3\n",
    "\n",
    "# Conectar ou criar o banco de dados\n",
    "conn = sqlite3.connect('exemplo.db')  # Cria um arquivo de banco de dados chamado 'exemplo.db'\n",
    "cursor = conn.cursor()\n",
    "\n",
    "cursor.execute(\"DELETE FROM clientes WHERE nome = 'Maria Oliveira'\")\n",
    "conn.commit()\n",
    "\n",
    "# Consultar os dados atualizados\n",
    "cursor.execute(\"SELECT * FROM clientes\")\n",
    "clientes = cursor.fetchall()  # Obtém todos os registros da tabela\n",
    "\n",
    "# Exibir os dados consultados\n",
    "print(\"Clientes cadastrados:\")\n",
    "for cliente in clientes:\n",
    "    print(cliente)\n",
    "\n",
    "# Fechar a conexão com o banco de dados\n",
    "conn.close()"
   ]
  },
  {
   "cell_type": "markdown",
   "metadata": {},
   "source": [
    "(COUNT) - Contar a quantidade de registros"
   ]
  },
  {
   "cell_type": "code",
   "execution_count": 35,
   "metadata": {},
   "outputs": [
    {
     "name": "stdout",
     "output_type": "stream",
     "text": [
      "Quantidade de registros na tabela clientes: 2\n",
      "\n",
      "Clientes cadastrados:\n",
      "(1, 'João Silva', 31, 'joao@exemplo.com')\n",
      "(3, 'Ricardo Fahham', 54, 'rfahham@gmail.com')\n"
     ]
    }
   ],
   "source": [
    "import sqlite3\n",
    "\n",
    "# Conectar ou criar o banco de dados\n",
    "conn = sqlite3.connect('exemplo.db')  # Cria um arquivo de banco de dados chamado 'exemplo.db'\n",
    "cursor = conn.cursor()\n",
    "\n",
    "# Atualizar dados\n",
    "cursor.execute(\"UPDATE clientes SET idade = 31 WHERE nome = 'João Silva'\")\n",
    "\n",
    "# Salvar as alterações no banco de dados\n",
    "conn.commit()\n",
    "\n",
    "# Consultar a quantidade de registros\n",
    "cursor.execute(\"SELECT COUNT(*) FROM clientes\")\n",
    "quantidade_registros = cursor.fetchone()[0]  # Retorna a contagem, que está no primeiro índice\n",
    "\n",
    "# Exibir a quantidade de registros\n",
    "print(f'Quantidade de registros na tabela clientes: {quantidade_registros}')\n",
    "\n",
    "# Consultar todos os dados para exibir\n",
    "cursor.execute(\"SELECT * FROM clientes\")\n",
    "clientes = cursor.fetchall()  # Obtém todos os registros da tabela\n",
    "\n",
    "# Exibir os dados consultados\n",
    "print(\"\\nClientes cadastrados:\")\n",
    "for cliente in clientes:\n",
    "    print(cliente)\n",
    "\n",
    "# Fechar a conexão com o banco de dados\n",
    "conn.close()\n"
   ]
  },
  {
   "cell_type": "markdown",
   "metadata": {},
   "source": [
    "Listar todos os emails"
   ]
  },
  {
   "cell_type": "code",
   "execution_count": 36,
   "metadata": {},
   "outputs": [
    {
     "name": "stdout",
     "output_type": "stream",
     "text": [
      "E-mails cadastrados:\n",
      "joao@exemplo.com\n",
      "rfahham@gmail.com\n"
     ]
    }
   ],
   "source": [
    "import sqlite3\n",
    "\n",
    "# Conectar ou criar o banco de dados\n",
    "conn = sqlite3.connect('exemplo.db')  # Cria um arquivo de banco de dados chamado 'exemplo.db'\n",
    "cursor = conn.cursor()\n",
    "\n",
    "# Consultar todos os e-mails dos clientes\n",
    "cursor.execute(\"SELECT email FROM clientes\")\n",
    "emails = cursor.fetchall()  # Obtém todos os e-mails\n",
    "\n",
    "# Exibir os e-mails\n",
    "print(\"E-mails cadastrados:\")\n",
    "for email in emails:\n",
    "    print(email[0])  # Exibe o e-mail (está na primeira posição de cada tupla)\n",
    "\n",
    "# Fechar a conexão com o banco de dados\n",
    "conn.close()\n"
   ]
  }
 ],
 "metadata": {
  "kernelspec": {
   "display_name": "Python 3",
   "language": "python",
   "name": "python3"
  },
  "language_info": {
   "codemirror_mode": {
    "name": "ipython",
    "version": 3
   },
   "file_extension": ".py",
   "mimetype": "text/x-python",
   "name": "python",
   "nbconvert_exporter": "python",
   "pygments_lexer": "ipython3",
   "version": "3.10.12"
  }
 },
 "nbformat": 4,
 "nbformat_minor": 2
}
