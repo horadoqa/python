{
 "cells": [
  {
   "cell_type": "code",
   "execution_count": null,
   "metadata": {},
   "outputs": [],
   "source": [
    "n1 = int(input('Primeiro Valor: '))\n",
    "n2 = int(input('Segundo Valor: '))\n",
    "opcao = 0\n",
    "\n",
    "while opcao != 5:\n",
    "    print('''\t\n",
    "    \t[ 1 ] Somar\n",
    "    \t[ 2 ] Multiplicar\n",
    "    \t[ 3 ] Maior\n",
    "    \t[ 4 ] Novos Números\n",
    "    \t[ 5 ] Sair do Programa\n",
    "    \t''') \n",
    "\n",
    "    opcao = int(input('Qual é a sua opção? '))\n",
    "\n",
    "    if opcao == 1:\n",
    "        soma = n1 + n2\n",
    "        print('A soma entre {} + {} é {}'.format(n1, n2, soma))\n",
    "\n",
    "    elif opcao == 2:\n",
    "        produto = n1 * n2\n",
    "        print('O resultado de {} x {} é {}'.format(n1, n2, produto))\n",
    "\n",
    "    elif opcao == 3:\n",
    "        if n1 > n2:\n",
    "            print('O número {} é o maior'.format(n1))\n",
    "        elif n2 > n1:\n",
    "            print('O número {} é o maior'.format(n2))\n",
    "        else:\n",
    "            print('Os números {} e {} são iguais'.format(n1, n2))\n",
    "\n",
    "    elif opcao == 4:\n",
    "        print('Informe os números novamente: ')\n",
    "        n1 = int(input('Primeiro Valor: '))\n",
    "        n2 = int(input('Segundo Valor: '))\n",
    "        \n",
    "    elif opcao == 5:\n",
    "        print('Finalizando...')\n",
    "\n",
    "    else:\n",
    "        print('Opção inválida. Digite uma opção válida!')\n",
    "\n",
    "print('Fim do programa! Volte Sempre!')\n"
   ]
  }
 ],
 "metadata": {
  "kernelspec": {
   "display_name": "Python 3",
   "language": "python",
   "name": "python3"
  },
  "language_info": {
   "codemirror_mode": {
    "name": "ipython",
    "version": 3
   },
   "file_extension": ".py",
   "mimetype": "text/x-python",
   "name": "python",
   "nbconvert_exporter": "python",
   "pygments_lexer": "ipython3",
   "version": "3.10.12"
  }
 },
 "nbformat": 4,
 "nbformat_minor": 2
}
