{
 "cells": [
  {
   "cell_type": "code",
   "execution_count": null,
   "metadata": {},
   "outputs": [],
   "source": [
    "num = int(input('Digite um número para ver as sua tabuada: '))\n",
    "\n",
    "print('{} X {:2} = {}'. format(num, 1, num*1))\n",
    "print('{} X {:2} = {}'. format(num, 2, num*2))\n",
    "print('{} X {:2} = {}'. format(num, 3, num*3))\n",
    "print('{} X {:2} = {}'. format(num, 4, num*4))\n",
    "print('{} X {:2} = {}'. format(num, 5, num*5))\n",
    "print('{} X {:2} = {}'. format(num, 6, num*6))\n",
    "print('{} X {:2} = {}'. format(num, 7, num*7))\n",
    "print('{} X {:2} = {}'. format(num, 8, num*8))\n",
    "print('{} X {:2} = {}'. format(num, 9, num*9))\n",
    "print('{} X {:2} = {}'. format(num, 10, num*10))"
   ]
  },
  {
   "cell_type": "code",
   "execution_count": null,
   "metadata": {},
   "outputs": [],
   "source": [
    "num = int(input('Digite um número para ver as sua tabuada: '))\n",
    "for c in range(1, 11):\n",
    "\tprint('{} X {:2} = {}'.format(num, c, num*c))"
   ]
  },
  {
   "cell_type": "code",
   "execution_count": null,
   "metadata": {},
   "outputs": [
    {
     "name": "stdout",
     "output_type": "stream",
     "text": [
      "5 x 1 = 5\n",
      "5 x 2 = 10\n",
      "5 x 3 = 15\n",
      "5 x 4 = 20\n",
      "5 x 5 = 25\n",
      "5 x 6 = 30\n",
      "5 x 7 = 35\n",
      "5 x 8 = 40\n",
      "5 x 9 = 45\n",
      "5 x 10 = 50\n"
     ]
    }
   ],
   "source": [
    "a = int(input(\"Digite um número para ver a sua tabuada: \"))\n",
    "\n",
    "for i in range(1,11):\n",
    "    print(f'{a} x {i} = {a*i}')\n"
   ]
  },
  {
   "cell_type": "code",
   "execution_count": 1,
   "metadata": {},
   "outputs": [
    {
     "name": "stdout",
     "output_type": "stream",
     "text": [
      "-------------\n",
      "Multiplicação\n",
      "-------------\n",
      "5 x 1 = 5\n",
      "5 x 2 = 10\n",
      "5 x 3 = 15\n",
      "5 x 4 = 20\n",
      "5 x 5 = 25\n",
      "5 x 6 = 30\n",
      "5 x 7 = 35\n",
      "5 x 8 = 40\n",
      "5 x 9 = 45\n",
      "5 x 10 = 50\n"
     ]
    }
   ],
   "source": [
    "print('-'*13)\n",
    "print('Multiplicação')\n",
    "print('-'*13)\n",
    "\n",
    "a = int(input('Informe um número : '))\n",
    "\n",
    "for i in range(1, 11):\n",
    "\tprint(f'{a} x {i} = {a*i}')"
   ]
  }
 ],
 "metadata": {
  "kernelspec": {
   "display_name": "Python 3",
   "language": "python",
   "name": "python3"
  },
  "language_info": {
   "codemirror_mode": {
    "name": "ipython",
    "version": 3
   },
   "file_extension": ".py",
   "mimetype": "text/x-python",
   "name": "python",
   "nbconvert_exporter": "python",
   "pygments_lexer": "ipython3",
   "version": "3.10.12"
  }
 },
 "nbformat": 4,
 "nbformat_minor": 2
}
