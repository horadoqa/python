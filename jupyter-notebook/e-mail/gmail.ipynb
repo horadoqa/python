{
 "cells": [
  {
   "cell_type": "markdown",
   "metadata": {},
   "source": [
    "Enviando e-mail com GMAIL"
   ]
  },
  {
   "cell_type": "code",
   "execution_count": null,
   "metadata": {},
   "outputs": [],
   "source": [
    "import smtplib\n",
    "import email.message\n",
    "\n",
    "def enviar_email():\n",
    "    corpo_email = \"\"\"\n",
    "    Teste de E-mail\n",
    "    \"\"\"\n",
    "\n",
    "    msg = email.message.Message()\n",
    "    msg['Subject'] = 'Teste de E-mail'\n",
    "    msg['From'] = f'horadoqa@gmail.com'\n",
    "    msg['To'] = f'horadoqa@gmail.com'\n",
    "    password = ''\n",
    "    msg.add_header('Content-Type', 'text/html')\n",
    "    msg.set_payload(corpo_email)\n",
    "\n",
    "    s = smtplib.SMTP('smtp.gmail.com', 587)\n",
    "    s.starttls()\n",
    "\n",
    "    s.login(msg['From'], password)\n",
    "    s.sendmail(msg['From'], [msg['To']], msg.as_string().encode('utf-8'))\n",
    "    print('Email enviado !!!')\n",
    "\n",
    "enviar_email()\n"
   ]
  },
  {
   "cell_type": "markdown",
   "metadata": {},
   "source": [
    "Utilizando a senha com Variável de ambiente\n",
    "\n",
    "set EMAIL_PASSWORD=SuaSenhaDeAplicativoAqui"
   ]
  },
  {
   "cell_type": "code",
   "execution_count": null,
   "metadata": {},
   "outputs": [],
   "source": [
    "import smtplib\n",
    "import email.message\n",
    "import os\n",
    "\n",
    "def enviar_email():\n",
    "    corpo_email = \"\"\"\n",
    "    Teste de E-mail\n",
    "    \"\"\"\n",
    "\n",
    "    msg = email.message.Message()\n",
    "    msg['Subject'] = 'Teste de E-mail'\n",
    "    msg['From'] = 'horadoqa@gmail.com'\n",
    "    msg['To'] = 'horadoqa@gmail.com'\n",
    "\n",
    "    # Aqui, use uma variável de ambiente ou um arquivo para armazenar sua senha\n",
    "    password = os.getenv('EMAIL_PASSWORD')  # Você pode setar uma variável de ambiente no seu sistema ou usar um arquivo de configuração\n",
    "    if not password:\n",
    "        print(\"Erro: A senha do e-mail não foi configurada.\")\n",
    "        return\n",
    "\n",
    "    msg.add_header('Content-Type', 'text/html')\n",
    "    msg.set_payload(corpo_email)\n",
    "\n",
    "    try:\n",
    "        # Conexão SMTP com o servidor do Gmail\n",
    "        with smtplib.SMTP('smtp.gmail.com', 587) as s:\n",
    "            s.starttls()  # Criptografia para o envio\n",
    "            s.login(msg['From'], password)  # Faz login com o e-mail e senha\n",
    "            s.sendmail(msg['From'], [msg['To']], msg.as_string())  # Envia o e-mail\n",
    "            print('Email enviado !!!')\n",
    "    except Exception as e:\n",
    "        print(f'Erro ao enviar e-mail: {e}')\n",
    "\n",
    "# Chame a função para enviar o e-mail\n",
    "enviar_email()\n"
   ]
  },
  {
   "cell_type": "code",
   "execution_count": null,
   "metadata": {},
   "outputs": [
    {
     "name": "stdout",
     "output_type": "stream",
     "text": [
      "Erro ao enviar e-mail: (535, b'5.7.8 Username and Password not accepted. For more information, go to\\n5.7.8  https://support.google.com/mail/?p=BadCredentials d2e1a72fcca58-724de531b82sm6597630b3a.102 - gsmtp')\n"
     ]
    }
   ],
   "source": [
    "import smtplib\n",
    "import email.message\n",
    "\n",
    "def enviar_email():\n",
    "    corpo_email = \"\"\"\n",
    "    Teste de E-mail\n",
    "    \"\"\"\n",
    "\n",
    "    msg = email.message.Message()\n",
    "    msg['Subject'] = 'Teste de E-mail'\n",
    "    msg['From'] = 'horadoqa@gmail.com'\n",
    "    msg['To'] = 'horadoqa@gmail.com'\n",
    "\n",
    "    # Aqui, use uma variável de ambiente ou um arquivo para armazenar sua senha\n",
    "    password = \"\"\n",
    "    if not password:\n",
    "        print(\"Erro: A senha do e-mail não foi configurada.\")\n",
    "        return\n",
    "\n",
    "    msg.add_header('Content-Type', 'text/html')\n",
    "    msg.set_payload(corpo_email)\n",
    "\n",
    "    try:\n",
    "        # Conexão SMTP com o servidor do Gmail\n",
    "        with smtplib.SMTP('smtp.gmail.com', 587) as s:\n",
    "            s.starttls()  # Criptografia para o envio\n",
    "            s.login(msg['From'], password)  # Faz login com o e-mail e senha\n",
    "            s.sendmail(msg['From'], [msg['To']], msg.as_string())  # Envia o e-mail\n",
    "            print('Email enviado !!!')\n",
    "    except Exception as e:\n",
    "        print(f'Erro ao enviar e-mail: {e}')\n",
    "\n",
    "# Chame a função para enviar o e-mail\n",
    "enviar_email()\n"
   ]
  }
 ],
 "metadata": {
  "kernelspec": {
   "display_name": "Python 3",
   "language": "python",
   "name": "python3"
  },
  "language_info": {
   "codemirror_mode": {
    "name": "ipython",
    "version": 3
   },
   "file_extension": ".py",
   "mimetype": "text/x-python",
   "name": "python",
   "nbconvert_exporter": "python",
   "pygments_lexer": "ipython3",
   "version": "3.10.12"
  }
 },
 "nbformat": 4,
 "nbformat_minor": 2
}
