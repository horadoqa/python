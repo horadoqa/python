{
 "cells": [
  {
   "cell_type": "code",
   "execution_count": 2,
   "metadata": {},
   "outputs": [
    {
     "name": "stdout",
     "output_type": "stream",
     "text": [
      "A URL 'https://www.globo.com.br' não é válida.\n"
     ]
    }
   ],
   "source": [
    "import re\n",
    "\n",
    "def validar_url(url):\n",
    "    # Expressão regular para validar a URL\n",
    "    padrao_url = r'^(https?://)?(www\\.)?[a-zA-Z0-9-]+\\.[a-zA-Z]{2,}(/[\\w.-]*)*$'\n",
    "    \n",
    "    # Verifica se a URL corresponde ao padrão\n",
    "    if re.match(padrao_url, url):\n",
    "        print(f\"A URL '{url}' está correta!\")\n",
    "    else:\n",
    "        print(f\"A URL '{url}' não é válida.\")\n",
    "\n",
    "# Teste da função\n",
    "url = input(\"Digite a URL para validar: \")\n",
    "validar_url(url)\n"
   ]
  }
 ],
 "metadata": {
  "kernelspec": {
   "display_name": "Python 3",
   "language": "python",
   "name": "python3"
  },
  "language_info": {
   "codemirror_mode": {
    "name": "ipython",
    "version": 3
   },
   "file_extension": ".py",
   "mimetype": "text/x-python",
   "name": "python",
   "nbconvert_exporter": "python",
   "pygments_lexer": "ipython3",
   "version": "3.10.12"
  }
 },
 "nbformat": 4,
 "nbformat_minor": 2
}
