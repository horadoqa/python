{
 "cells": [
  {
   "cell_type": "code",
   "execution_count": 1,
   "metadata": {},
   "outputs": [
    {
     "name": "stdout",
     "output_type": "stream",
     "text": [
      "\n",
      "Processo interrompido com sucesso.\n"
     ]
    }
   ],
   "source": [
    "import os\n",
    "import random\n",
    "from time import sleep\n",
    "\n",
    "try:\n",
    "    while True:\n",
    "        sleep(1)\n",
    "        os.system(f\"echo 'O processo {random.randint(1, 1000)} está sendo executado!' >> app.log\")\n",
    "except KeyboardInterrupt:\n",
    "    print(\"\\nProcesso interrompido com sucesso.\")"
   ]
  },
  {
   "cell_type": "code",
   "execution_count": 37,
   "metadata": {},
   "outputs": [
    {
     "name": "stdout",
     "output_type": "stream",
     "text": [
      "Arquivo /home/rfahham/projetos/python/jupyter-notebook/log/app2.log já existe.\n",
      "\n",
      "Processo interrompido com sucesso.\n"
     ]
    }
   ],
   "source": [
    "import random\n",
    "import logging\n",
    "from time import sleep\n",
    "\n",
    "# Caminho absoluto para o arquivo de log\n",
    "log_path = \"/home/rfahham/projetos/python/jupyter-notebook/log/app2.log\"  # Substitua pelo caminho correto do seu sistema\n",
    "\n",
    "# Função para criar o arquivo de log se não existir\n",
    "def verificar_criar_log():\n",
    "    if not os.path.exists(log_path):\n",
    "        with open(log_path, 'w') as f:\n",
    "            pass  # Cria o arquivo em branco, se não existir\n",
    "        print(f\"Arquivo {log_path} criado com sucesso!\")  # Mensagem de depuração\n",
    "    else:\n",
    "        print(f\"Arquivo {log_path} já existe.\")  # Mensagem de depuração\n",
    "\n",
    "# Configuração do logger para salvar em app.log (modo de append para adicionar logs sem sobrescrever)\n",
    "verificar_criar_log()\n",
    "\n",
    "# Configuração do logger para salvar em app.log\n",
    "logging.basicConfig(filename='app2.log', level=logging.INFO, format='%(asctime)s - %(message)s')\n",
    "\n",
    "try:\n",
    "    while True:\n",
    "        sleep(1)\n",
    "        processo_id = random.randint(1, 1000)\n",
    "        logging.info(f'O processo {processo_id} está sendo executado!')\n",
    "except KeyboardInterrupt:\n",
    "    print(\"\\nProcesso interrompido com sucesso.\")"
   ]
  },
  {
   "cell_type": "code",
   "execution_count": 38,
   "metadata": {},
   "outputs": [
    {
     "name": "stdout",
     "output_type": "stream",
     "text": [
      "Arquivo /home/rfahham/projetos/python/jupyter-notebook/log/app3.log criado com sucesso!\n",
      "\n",
      "Processo interrompido com sucesso.\n"
     ]
    }
   ],
   "source": [
    "import logging\n",
    "import subprocess\n",
    "from time import sleep\n",
    "import os\n",
    "\n",
    "# Caminho absoluto para o arquivo de log\n",
    "log_path = \"/home/rfahham/projetos/python/jupyter-notebook/log/app3.log\"  # Substitua pelo caminho correto do seu sistema\n",
    "\n",
    "# Função para criar o arquivo de log se não existir\n",
    "def verificar_criar_log():\n",
    "    if not os.path.exists(log_path):\n",
    "        with open(log_path, 'w') as f:\n",
    "            pass  # Cria o arquivo em branco, se não existir\n",
    "        print(f\"Arquivo {log_path} criado com sucesso!\")  # Mensagem de depuração\n",
    "    else:\n",
    "        print(f\"Arquivo {log_path} já existe.\")  # Mensagem de depuração\n",
    "\n",
    "# Configuração do logger para salvar em app.log (modo de append para adicionar logs sem sobrescrever)\n",
    "verificar_criar_log()\n",
    "\n",
    "# Configuração do logger com mais detalhes\n",
    "logging.basicConfig(\n",
    "    filename=log_path, \n",
    "    level=logging.DEBUG,  # Mudança para DEBUG para capturar mais informações\n",
    "    format='%(asctime)s - %(levelname)s - %(message)s'\n",
    ")\n",
    "\n",
    "# Verificação de se o logger está funcionando corretamente (mensagem inicial)\n",
    "logging.debug(\"Logger configurado com sucesso.\")\n",
    "\n",
    "# Função para realizar o ping e verificar a conectividade\n",
    "def verificar_ping(endereco):\n",
    "    try:\n",
    "        # Usamos o subprocess para executar o comando de ping\n",
    "        resultado = subprocess.run(\n",
    "            [\"ping\", \"-c\", \"1\", endereco], \n",
    "            stdout=subprocess.PIPE, \n",
    "            stderr=subprocess.PIPE\n",
    "        )\n",
    "        if resultado.returncode == 0:\n",
    "            return True\n",
    "        else:\n",
    "            return False\n",
    "    except Exception as e:\n",
    "        logging.error(f\"Erro ao tentar fazer ping: {e}\")\n",
    "        return False\n",
    "\n",
    "try:\n",
    "    logging.debug(\"Iniciando o processo de verificação de ping.\")\n",
    "    \n",
    "    while True:\n",
    "        sleep(1)\n",
    "        \n",
    "        # Verifica se o ChatGPT (OpenAI) está acessível\n",
    "        endereco_chatgpt = \"chat.openai.com\"\n",
    "        sucesso_ping = verificar_ping(endereco_chatgpt)\n",
    "        \n",
    "        # Registra o resultado do ping no arquivo de log\n",
    "        if sucesso_ping:\n",
    "            logging.info(f\"Ping para {endereco_chatgpt} foi bem-sucedido!\")\n",
    "        else:\n",
    "            logging.warning(f\"Falha no ping para {endereco_chatgpt}.\")\n",
    "\n",
    "        # Força o logger a escrever imediatamente no arquivo\n",
    "        for handler in logging.root.handlers:\n",
    "            handler.flush()\n",
    "\n",
    "except KeyboardInterrupt:\n",
    "    logging.info(\"Processo interrompido com sucesso.\")\n",
    "    print(\"\\nProcesso interrompido com sucesso.\")\n"
   ]
  },
  {
   "cell_type": "markdown",
   "metadata": {},
   "source": [
    "O log 2 e 3 não funcionam no jupiter por causa de alguma permissão de escrever no arquivo"
   ]
  }
 ],
 "metadata": {
  "kernelspec": {
   "display_name": "Python 3",
   "language": "python",
   "name": "python3"
  },
  "language_info": {
   "codemirror_mode": {
    "name": "ipython",
    "version": 3
   },
   "file_extension": ".py",
   "mimetype": "text/x-python",
   "name": "python",
   "nbconvert_exporter": "python",
   "pygments_lexer": "ipython3",
   "version": "3.10.12"
  }
 },
 "nbformat": 4,
 "nbformat_minor": 2
}
